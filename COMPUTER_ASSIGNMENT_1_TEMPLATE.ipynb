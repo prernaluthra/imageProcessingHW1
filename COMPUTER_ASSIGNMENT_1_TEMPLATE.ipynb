{
 "cells": [
  {
   "cell_type": "markdown",
   "metadata": {
    "colab_type": "text",
    "id": "bFp3Tclofn6h"
   },
   "source": [
    "# COMPUTER ASSIGNMENT 1\n"
   ]
  },
  {
   "cell_type": "markdown",
   "metadata": {
    "colab_type": "text",
    "id": "oRYtm8fffn6l"
   },
   "source": [
    "- In class we learned about different color representations. \n",
    "- **HSL** (Hue, Saturation, Lightness) and **HSV** (Hue, Saturation, Value) are two alternative representations of the RGB color model. Hue represents dominant color as perceived by an observer and can be used for simple color detection. Take the following steps:\n",
    " 1. **[ TODO 1 ]** \n",
    "     - Load a color image of your choice (if you wish you can choose an image from the sample images provided at the course website as a colored image). You can refer to tutorial 3_Opencv.ipynb for loading a color image. \n",
    "     - Display the color image as well as individual color components, Red, Green, and Blue.\n",
    "     - Describe your observations of what each component characterizes. \n",
    "\n",
    " - **[ TODO 2 ]** \n",
    "     - Use **cv2.cvtColor()** function to convert the BGR image to HSV. As an input to this function you should use **cv2.COLOR_BGR2HSV**.\n",
    "     - Display the individual components, hue, saturation and value. \n",
    "     - Describe your observations of what each component characterizes.\n",
    "\n",
    " - **[ TODO 3 ]** \n",
    "     - Use **cv2.inRange()** function to find the pixels in the HSV image that has value in the range of blue color. Your result should be a binary mask.  The lower and upper limits for the blue color are **[110,50,50]** and **[130,255,255]**, respectively.\n",
    "     - Use **cv2.bitwise_and()** function to create an image containing only the blue parts.\n",
    "     - Display the original image and the mask and the detected blue parts. Furthermore, save the resulting images.  For displaying and saving images you can refer to tutorial 3_Opencv.ipynb\n",
    "\n",
    "Your results should look something like the following. \n",
    "![](./Figures/Figure_1.png)"
   ]
  },
  {
   "cell_type": "markdown",
   "metadata": {
    "colab_type": "text",
    "id": "pyBAUiScfn6m"
   },
   "source": [
    "## PART 1\n"
   ]
  },
  {
   "cell_type": "markdown",
   "metadata": {},
   "source": [
    "### [TODO - 1]"
   ]
  },
  {
   "cell_type": "markdown",
   "metadata": {
    "colab_type": "text",
    "id": "zmKpgYdgfn6n"
   },
   "source": [
    "- Write the code to load the image here"
   ]
  },
  {
   "cell_type": "code",
   "execution_count": 0,
   "metadata": {
    "colab": {},
    "colab_type": "code",
    "id": "ykITFrHSfn6p"
   },
   "outputs": [],
   "source": []
  },
  {
   "cell_type": "markdown",
   "metadata": {
    "colab_type": "text",
    "id": "jOmny_f3fn6t"
   },
   "source": [
    "- Print the size of the image loaded "
   ]
  },
  {
   "cell_type": "code",
   "execution_count": 0,
   "metadata": {
    "colab": {},
    "colab_type": "code",
    "id": "BjQ1NRYWfn6u"
   },
   "outputs": [],
   "source": []
  },
  {
   "cell_type": "markdown",
   "metadata": {},
   "source": [
    "- Code to **display results**. If using matplotlib.pyplot to display image, convert to RGB for correct color display."
   ]
  },
  {
   "cell_type": "code",
   "execution_count": null,
   "metadata": {},
   "outputs": [],
   "source": []
  },
  {
   "cell_type": "markdown",
   "metadata": {},
   "source": [
    "#### Discuss your observations here (modify this cell)"
   ]
  },
  {
   "cell_type": "markdown",
   "metadata": {},
   "source": [
    "### [TODO - 2]"
   ]
  },
  {
   "cell_type": "markdown",
   "metadata": {
    "colab_type": "text",
    "id": "LG1_5ecyfn6x"
   },
   "source": [
    "- Convert color from BGR to HSV"
   ]
  },
  {
   "cell_type": "code",
   "execution_count": 0,
   "metadata": {
    "colab": {},
    "colab_type": "code",
    "id": "DBiby-osfn6y"
   },
   "outputs": [],
   "source": []
  },
  {
   "cell_type": "markdown",
   "metadata": {},
   "source": [
    "- Code to **display results**."
   ]
  },
  {
   "cell_type": "code",
   "execution_count": null,
   "metadata": {},
   "outputs": [],
   "source": []
  },
  {
   "cell_type": "markdown",
   "metadata": {},
   "source": [
    "#### Discuss your observations here (modify this cell)\n"
   ]
  },
  {
   "cell_type": "markdown",
   "metadata": {},
   "source": [
    "### [TODO - 3]"
   ]
  },
  {
   "cell_type": "markdown",
   "metadata": {
    "colab_type": "text",
    "id": "UaFM06wRfn62"
   },
   "source": [
    "- Code for finding the mask for blue color pixels"
   ]
  },
  {
   "cell_type": "code",
   "execution_count": 0,
   "metadata": {
    "colab": {},
    "colab_type": "code",
    "id": "wkMjNOw9fn63"
   },
   "outputs": [],
   "source": []
  },
  {
   "cell_type": "markdown",
   "metadata": {
    "colab_type": "text",
    "id": "kfvX6Fawfn67"
   },
   "source": [
    "- Code for extraction of blue parts (Use the bitwise AND)\n"
   ]
  },
  {
   "cell_type": "code",
   "execution_count": 0,
   "metadata": {
    "colab": {},
    "colab_type": "code",
    "id": "MKHWxIygfn68"
   },
   "outputs": [],
   "source": []
  },
  {
   "cell_type": "markdown",
   "metadata": {
    "colab_type": "text",
    "id": "QFhRW6TVfn7A"
   },
   "source": [
    "- Code to **display results**. If using matplotlib.pyplot to display image, convert to RGB for correct color display.\n",
    "- Code to **save resulting images** "
   ]
  },
  {
   "cell_type": "code",
   "execution_count": 0,
   "metadata": {
    "colab": {},
    "colab_type": "code",
    "id": "TQ5TTK-yfn7B"
   },
   "outputs": [],
   "source": []
  },
  {
   "cell_type": "markdown",
   "metadata": {
    "colab_type": "text",
    "id": "MT1EZBDtfn7E"
   },
   "source": [
    "## PART 2"
   ]
  },
  {
   "cell_type": "markdown",
   "metadata": {
    "colab_type": "text",
    "id": "rXCn71oGfn7E"
   },
   "source": [
    "### Histogram Operations\n",
    "- In this exercise we will explore the histogram equalization of gray-scale images. \n",
    "   \n",
    " - You can also find useful sample codes in the following link from OpenCV tutorials- [TUTORIALS](http://opencv-python-tutroals.readthedocs.io/en/latest/py_tutorials/py_imgproc/py_histograms/py_table_of_contents_histograms/py_table_of_contents_histograms.html )\n",
    "\n",
    "- Take the following steps:\n",
    " 1. **[ TODO 4 ]** Load the **wiki.jpg** image from sample images as a gray-scale image using **cv2.imread()** function. Note: set the second argument of cv2.imread() function to **0** for gray-scale.\n",
    " - **[ TODO 5 ]** \n",
    "     - Calculate the histogram of the image. **np.histogram()** function can be used for calculation of the histogram. Refer to following link for more information:[HISTOGRAMS](https://docs.scipy.org/doc/numpy-1.13.0/reference/generated/numpy.histogram.html) \n",
    "     - Plot the histogram.\n",
    "     - Describe your observation of the ralationship between the histogram and the image contrast.\n",
    " - **[ TODO 6 ]** \n",
    "     - Calculate the cdf using the **np.cumsum()** function and proper normalization.\n",
    "     - Plot the calculated cdf.\n",
    "     - Comment on whether this function is appropriate for enhancing the contrast of the image\n",
    " - **[ TODO 7 ]** \n",
    "     - Apply the histogram equalizing function using the algorithm described in class.\n",
    "     - Display the transformed image and its histogram. Compared them with the original ones and save the resulted images.\n",
    " \n",
    "Expected Output:\n",
    "![](./Figures/Figure_2.png)\n"
   ]
  },
  {
   "cell_type": "markdown",
   "metadata": {},
   "source": [
    "### [TODO - 4]"
   ]
  },
  {
   "cell_type": "markdown",
   "metadata": {
    "colab_type": "text",
    "id": "UHF82A32fn7F"
   },
   "source": [
    "- Code to read the image"
   ]
  },
  {
   "cell_type": "code",
   "execution_count": 0,
   "metadata": {
    "colab": {},
    "colab_type": "code",
    "id": "tLpJDlodfn7H"
   },
   "outputs": [],
   "source": []
  },
  {
   "cell_type": "markdown",
   "metadata": {},
   "source": [
    "### [TODO - 5]"
   ]
  },
  {
   "cell_type": "markdown",
   "metadata": {
    "colab_type": "text",
    "id": "uvZHHKW6fn7K"
   },
   "source": [
    "- Find the Histogram"
   ]
  },
  {
   "cell_type": "code",
   "execution_count": 0,
   "metadata": {
    "colab": {},
    "colab_type": "code",
    "id": "qLP_VhoCfn7M"
   },
   "outputs": [],
   "source": []
  },
  {
   "cell_type": "markdown",
   "metadata": {},
   "source": [
    "- **Plot the Histogram**"
   ]
  },
  {
   "cell_type": "code",
   "execution_count": null,
   "metadata": {},
   "outputs": [],
   "source": []
  },
  {
   "cell_type": "markdown",
   "metadata": {},
   "source": [
    "#### Discuss your observations here (modify this cell)\n"
   ]
  },
  {
   "cell_type": "markdown",
   "metadata": {},
   "source": [
    "### [TODO - 6]"
   ]
  },
  {
   "cell_type": "markdown",
   "metadata": {
    "colab_type": "text",
    "id": "pOZn4nqSfn7P"
   },
   "source": [
    "- Calculate the CDF\n"
   ]
  },
  {
   "cell_type": "code",
   "execution_count": 0,
   "metadata": {
    "colab": {},
    "colab_type": "code",
    "id": "QF1tYlhDfn7Q"
   },
   "outputs": [],
   "source": []
  },
  {
   "cell_type": "markdown",
   "metadata": {},
   "source": [
    "- **Plot the CDF**"
   ]
  },
  {
   "cell_type": "code",
   "execution_count": null,
   "metadata": {},
   "outputs": [],
   "source": []
  },
  {
   "cell_type": "markdown",
   "metadata": {},
   "source": [
    "#### Discuss your comments here (modify this cell)\n"
   ]
  },
  {
   "cell_type": "markdown",
   "metadata": {},
   "source": [
    "### [TODO - 7]"
   ]
  },
  {
   "cell_type": "markdown",
   "metadata": {
    "colab_type": "text",
    "id": "xEaFKKiLfn7U"
   },
   "source": [
    "- Apply Histogram Equilization"
   ]
  },
  {
   "cell_type": "code",
   "execution_count": 0,
   "metadata": {
    "colab": {},
    "colab_type": "code",
    "id": "Ps50cOuYfn7V"
   },
   "outputs": [],
   "source": []
  },
  {
   "cell_type": "markdown",
   "metadata": {
    "colab_type": "text",
    "id": "D5LVf9YZfn7Z"
   },
   "source": [
    "- **Display results** and **save image**\n",
    "- When displaying images using plt.imshow(), use the parameters vmin=0, vmax=255\n",
    "- This is because plt.imshow() automatically scale the colormap to fit the range of the image, setting vmin and vmax will prevent this"
   ]
  },
  {
   "cell_type": "code",
   "execution_count": 0,
   "metadata": {
    "colab": {},
    "colab_type": "code",
    "id": "MkqY_lSKfn7e"
   },
   "outputs": [],
   "source": []
  },
  {
   "cell_type": "markdown",
   "metadata": {
    "colab_type": "text",
    "id": "E-XpB4T0fn7h"
   },
   "source": [
    "## Submission Instructions\n",
    "\n",
    "- Please submit two files in NYUclasses as two separate attachment:\n",
    " 1. A pdf version of the notebbok (that includes the results/figures and comments you have for any results)\n",
    " 2. A zip file including all following files named **your-last-name-CA01**\n",
    "     - The python notebook as a _.ipynb_ file with the name as **your-last-name-CA01**\n",
    "     - The pdf version of the notebbok \n",
    "     - Add all the saved images in a folder named _output-images_\n",
    " "
   ]
  },
  {
   "cell_type": "code",
   "execution_count": 0,
   "metadata": {
    "colab": {},
    "colab_type": "code",
    "id": "rSiBCrqMfn7i"
   },
   "outputs": [],
   "source": []
  },
  {
   "cell_type": "code",
   "execution_count": 0,
   "metadata": {
    "colab": {},
    "colab_type": "code",
    "id": "-wuV7bubfn7k"
   },
   "outputs": [],
   "source": []
  }
 ],
 "metadata": {
  "colab": {
   "name": "COMPUTER_ASSIGNMENT_1_TEMPLATE.ipynb",
   "provenance": []
  },
  "kernelspec": {
   "display_name": "Python 3 (ipykernel)",
   "language": "python",
   "name": "python3"
  },
  "language_info": {
   "codemirror_mode": {
    "name": "ipython",
    "version": 3
   },
   "file_extension": ".py",
   "mimetype": "text/x-python",
   "name": "python",
   "nbconvert_exporter": "python",
   "pygments_lexer": "ipython3",
   "version": "3.7.9"
  }
 },
 "nbformat": 4,
 "nbformat_minor": 1
}
